{
 "cells": [
  {
   "cell_type": "markdown",
   "source": [
    "## Imports"
   ],
   "metadata": {
    "collapsed": false
   },
   "id": "82adf1828fe01eaa"
  },
  {
   "cell_type": "code",
   "execution_count": null,
   "id": "initial_id",
   "metadata": {
    "collapsed": true
   },
   "outputs": [],
   "source": [
    "import os\n",
    "from PIL import Image\n",
    "import numpy as np\n",
    "import matplotlib.pyplot as plt\n",
    "import ot\n",
    "import cv2\n",
    "import imageio\n",
    "from glob import glob"
   ]
  },
  {
   "cell_type": "markdown",
   "source": [
    "## Data Import"
   ],
   "metadata": {
    "collapsed": false
   },
   "id": "a849edcbaff03b54"
  },
  {
   "cell_type": "code",
   "execution_count": null,
   "outputs": [],
   "source": [
    "# Load images\n",
    "directory = r'C:\\Users\\ariel\\PycharmProjects\\MLDM_Project\\generations\\patch_match_24_30'\n",
    "# List all files in directory\n",
    "file_list = sorted(os.listdir(directory))\n",
    "print(file_list)\n",
    "\n",
    "np_images = []\n",
    "for filename in file_list:\n",
    "    if filename.endswith('.png'):\n",
    "        img = Image.open(directory + '/' + filename).convert('L')\n",
    "        np_images.append(np.array(img) / 255.0)\n",
    "\n",
    "images = np.array(np_images)\n",
    "\n",
    "print(f\"Processed {len(images)} images.\")"
   ],
   "metadata": {
    "collapsed": false
   },
   "id": "9640da7cb442780c"
  },
  {
   "cell_type": "markdown",
   "source": [
    "## Optimal Transport function"
   ],
   "metadata": {
    "collapsed": false
   },
   "id": "e9c99f81068a8df6"
  },
  {
   "cell_type": "code",
   "execution_count": null,
   "outputs": [],
   "source": [
    "def compute_optimal_transport(image1, image2, reg_e=0.0001):\n",
    "    # Flatten the images\n",
    "    image1_flat = image1.flatten()\n",
    "    image2_flat = image2.flatten()\n",
    "\n",
    "    # Compute the Optimal Transport between the two images\n",
    "    M12 = ot.dist(image1_flat.reshape(-1, 1), image2_flat.reshape(-1, 1))\n",
    "    M21 = ot.dist(image2_flat.reshape(-1, 1), image1_flat.reshape(-1, 1))\n",
    "    ot_plan1 = ot.emd([], [], M12)\n",
    "    ot_plan2 = ot.emd([], [], M21)\n",
    "    \n",
    "    # Compute the Optimal Transport plan from image1 to image2 using Sinkhorn's algorithm\n",
    "    #ot_plan1 = ot.bregman.sinkhorn(image1_flat, image2_flat, M12, reg=0.01)\n",
    "    \n",
    "    # Compute the Optimal Transport plan from image2 to image1 using Sinkhorn's algorithm\n",
    "    #ot_plan2 = ot.bregman.sinkhorn(image2_flat, image1_flat, M21, reg=0.01)\n",
    "    \n",
    "    # Apply the Optimal Transport plan to the first image\n",
    "    transport_map12 = ot_plan1.dot(image2_flat)\n",
    "    transport_map21 = ot_plan2.dot(image1_flat)\n",
    "    \n",
    "    intermediate_image12 = transport_map12.reshape(image1.shape)\n",
    "    intermediate_image21 = transport_map21.reshape(image2.shape)\n",
    "    \n",
    "    intermediate_image = (intermediate_image12 + intermediate_image21) / 2\n",
    "\n",
    "    return intermediate_image"
   ],
   "metadata": {
    "collapsed": false
   },
   "id": "1f029038eabee2ef"
  },
  {
   "cell_type": "markdown",
   "source": [
    "## Registration"
   ],
   "metadata": {
    "collapsed": false
   },
   "id": "4b3df1d4d0302056"
  },
  {
   "cell_type": "code",
   "execution_count": null,
   "outputs": [],
   "source": [
    "counter = 1\n",
    "\n",
    "# Loop over the list of images\n",
    "for i in range(len(images) - 1):\n",
    "    # Get the current image and the next image\n",
    "    #image1 = images[i]\n",
    "    #image2 = images[i + 1]\n",
    "    \n",
    "    print(\"Processing image \" + str(counter) + \"/\" + str(len(images)))\n",
    "    \n",
    "    image1 = cv2.resize(images[i], (128, 128))\n",
    "    image2 = cv2.resize(images[i + 1], (128, 128))\n",
    "\n",
    "    # Compute the Optimal Transport between the two images\n",
    "    ot_img = compute_optimal_transport(image1, image2, reg_e=0.01)\n",
    "    ot_img = (ot_img - ot_img.min()) / (ot_img.max() - ot_img.min())*255\n",
    "    ot_img = cv2.fastNlMeansDenoising(ot_img.astype(np.uint8), None, 10, 7, 31)\n",
    "\n",
    "    #Plot the images OT images\n",
    "    fig, ax = plt.subplots(1, 3, figsize=(15, 5))\n",
    "    ax[0].imshow(image1, cmap='gray')\n",
    "    ax[0].set_title('Image 1')\n",
    "    ax[1].imshow(ot_img, cmap='gray')\n",
    "    ax[1].set_title('Optimal Transport Plan')\n",
    "    ax[2].imshow(image2, cmap='gray')\n",
    "    ax[2].set_title('Image 2')\n",
    "    plt.show()\n",
    "        \n",
    "    # Save the original image as a PNG file\n",
    "    original_pil_img = Image.fromarray((image1 * 255).astype(np.uint8))\n",
    "    original_pil_img.save(f'C:/Users/ariel/PycharmProjects/MLDM_Project/generations/optimal_transport_24_30/image_{counter}.png')\n",
    "    print(f\"Saved image_{counter}.png\")\n",
    "    counter += 1\n",
    "\n",
    "    # Save the Optimal Transport image as a PNG file\n",
    "    ot_pil_img = Image.fromarray(ot_img.astype(np.uint8))\n",
    "    ot_pil_img.save(f'C:/Users/ariel/PycharmProjects/MLDM_Project/generations/optimal_transport_24_30/image_{counter}.png')\n",
    "    print(f\"Saved image_{counter}.png\")\n",
    "    counter += 1"
   ],
   "metadata": {
    "collapsed": false
   },
   "id": "8bfa732abe462096"
  },
  {
   "cell_type": "markdown",
   "source": [
    "## Making GIFs"
   ],
   "metadata": {
    "collapsed": false
   },
   "id": "b67c481eb76d4da4"
  },
  {
   "cell_type": "code",
   "execution_count": null,
   "outputs": [],
   "source": [
    "# Get the list of image files\n",
    "file_list = sorted(glob(r\"C:\\Users\\ariel\\PycharmProjects\\MLDM_Project\\generations\\optimal_transport_generations\\optimal_transport_24_30/*.png\"))\n",
    "\n",
    "# Read the images into a list\n",
    "images = [imageio.imread(file) for file in file_list]\n",
    "\n",
    "# Save the images as a GIF\n",
    "imageio.mimsave(r'C:\\Users\\ariel\\PycharmProjects\\MLDM_Project\\plots/ot_24_30.gif', images)"
   ],
   "metadata": {
    "collapsed": false
   },
   "id": "299a44e7d4ef580c"
  }
 ],
 "metadata": {
  "kernelspec": {
   "display_name": "Python 3",
   "language": "python",
   "name": "python3"
  },
  "language_info": {
   "codemirror_mode": {
    "name": "ipython",
    "version": 2
   },
   "file_extension": ".py",
   "mimetype": "text/x-python",
   "name": "python",
   "nbconvert_exporter": "python",
   "pygments_lexer": "ipython2",
   "version": "2.7.6"
  }
 },
 "nbformat": 4,
 "nbformat_minor": 5
}

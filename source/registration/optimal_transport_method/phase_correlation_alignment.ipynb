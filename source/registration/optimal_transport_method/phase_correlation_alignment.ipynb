{
 "cells": [
  {
   "cell_type": "markdown",
   "source": [
    "## Imports"
   ],
   "metadata": {
    "collapsed": false
   },
   "id": "ce41639f4fd74fa1"
  },
  {
   "cell_type": "code",
   "execution_count": 1,
   "outputs": [],
   "source": [
    "import cv2\n",
    "import numpy as np\n",
    "from glob import glob\n",
    "import os"
   ],
   "metadata": {
    "collapsed": false,
    "ExecuteTime": {
     "end_time": "2023-12-04T12:07:10.482971400Z",
     "start_time": "2023-12-04T12:07:10.317913200Z"
    }
   },
   "id": "7977704b9089081c"
  },
  {
   "cell_type": "markdown",
   "source": [
    "## Phase correlation alignment function"
   ],
   "metadata": {
    "collapsed": false
   },
   "id": "760f5f25be3117ce"
  },
  {
   "cell_type": "code",
   "execution_count": 3,
   "outputs": [],
   "source": [
    "def phase_correlation_alignment(patch1, patch2):\n",
    "    patch1_freq = np.fft.fftn(patch1)\n",
    "    patch2_freq = np.fft.fftn(patch2)\n",
    "    corr = np.fft.ifftn(patch1_freq*np.conjugate(patch2_freq)/(np.abs(patch1_freq)*np.abs(patch2_freq)))\n",
    "\n",
    "    ty, tx = np.unravel_index(np.argmax(corr), corr.shape)  # this gives us the translation between patches\n",
    "    if tx > patch1.shape[1] // 2:\n",
    "        tx -= patch1.shape[1]\n",
    "\n",
    "    if ty > patch1.shape[0] // 2:\n",
    "        ty -= patch1.shape[0]\n",
    "\n",
    "    rows, cols = patch2.shape\n",
    "    M = np.float32([[1, 0, -tx],[0, 1, -ty]])\n",
    "    aligned_patch = cv2.warpAffine(patch2, M, (cols,rows))\n",
    "    return aligned_patch"
   ],
   "metadata": {
    "collapsed": false,
    "ExecuteTime": {
     "end_time": "2023-12-04T12:08:11.774951Z",
     "start_time": "2023-12-04T12:08:11.762375400Z"
    }
   },
   "id": "initial_id"
  },
  {
   "cell_type": "markdown",
   "source": [
    "## Imports and alignment"
   ],
   "metadata": {
    "collapsed": false
   },
   "id": "e1db8596f1572d30"
  },
  {
   "cell_type": "code",
   "execution_count": 18,
   "outputs": [
    {
     "name": "stdout",
     "output_type": "stream",
     "text": [
      "Processing image  D:/Datasets/MLDM Project/Data/0.20__2/cropped\\cropped_01.jpg\n",
      "Patch aligned using phase correlation\n",
      "Processing image  D:/Datasets/MLDM Project/Data/0.20__2/cropped\\cropped_02.jpg\n",
      "Patch aligned using phase correlation\n",
      "Processing image  D:/Datasets/MLDM Project/Data/0.20__2/cropped\\cropped_03.jpg\n",
      "Patch aligned using phase correlation\n",
      "Processing image  D:/Datasets/MLDM Project/Data/0.20__2/cropped\\cropped_04.jpg\n",
      "Patch aligned using phase correlation\n",
      "Processing image  D:/Datasets/MLDM Project/Data/0.20__2/cropped\\cropped_05.jpg\n",
      "Patch aligned using phase correlation\n",
      "Processing image  D:/Datasets/MLDM Project/Data/0.20__2/cropped\\cropped_06.jpg\n",
      "Patch aligned using phase correlation\n",
      "Processing image  D:/Datasets/MLDM Project/Data/0.20__2/cropped\\cropped_07.jpg\n",
      "Patch aligned using phase correlation\n",
      "Processing image  D:/Datasets/MLDM Project/Data/0.20__2/cropped\\cropped_08.jpg\n",
      "Patch aligned using phase correlation\n",
      "Processing image  D:/Datasets/MLDM Project/Data/0.20__2/cropped\\cropped_09.jpg\n",
      "Patch aligned using phase correlation\n",
      "Processing image  D:/Datasets/MLDM Project/Data/0.20__2/cropped\\cropped_10.jpg\n",
      "Patch aligned using phase correlation\n",
      "Processing image  D:/Datasets/MLDM Project/Data/0.20__2/cropped\\cropped_11.jpg\n",
      "Patch aligned using phase correlation\n",
      "Processing image  D:/Datasets/MLDM Project/Data/0.20__2/cropped\\cropped_12.jpg\n",
      "Patch aligned using phase correlation\n",
      "Processing image  D:/Datasets/MLDM Project/Data/0.20__2/cropped\\cropped_13.jpg\n",
      "Patch aligned using phase correlation\n",
      "Processing image  D:/Datasets/MLDM Project/Data/0.20__2/cropped\\cropped_14.jpg\n",
      "Patch aligned using phase correlation\n",
      "Processing image  D:/Datasets/MLDM Project/Data/0.20__2/cropped\\cropped_15.jpg\n",
      "Patch aligned using phase correlation\n",
      "Processing image  D:/Datasets/MLDM Project/Data/0.20__2/cropped\\cropped_16.jpg\n",
      "Patch aligned using phase correlation\n",
      "Processing image  D:/Datasets/MLDM Project/Data/0.20__2/cropped\\cropped_17.jpg\n",
      "Patch aligned using phase correlation\n",
      "Processing image  D:/Datasets/MLDM Project/Data/0.20__2/cropped\\cropped_18.jpg\n",
      "Patch aligned using phase correlation\n",
      "Processing image  D:/Datasets/MLDM Project/Data/0.20__2/cropped\\cropped_19.jpg\n",
      "Patch aligned using phase correlation\n",
      "Processing image  D:/Datasets/MLDM Project/Data/0.20__2/cropped\\cropped_20.jpg\n",
      "Patch aligned using phase correlation\n",
      "Processing image  D:/Datasets/MLDM Project/Data/0.20__2/cropped\\cropped_21.jpg\n",
      "Patch aligned using phase correlation\n",
      "Processing image  D:/Datasets/MLDM Project/Data/0.20__2/cropped\\cropped_22.jpg\n",
      "Patch aligned using phase correlation\n",
      "Processing image  D:/Datasets/MLDM Project/Data/0.20__2/cropped\\cropped_23.jpg\n",
      "Patch aligned using phase correlation\n",
      "Processing image  D:/Datasets/MLDM Project/Data/0.20__2/cropped\\cropped_24.jpg\n",
      "Patch aligned using phase correlation\n",
      "Processing image  D:/Datasets/MLDM Project/Data/0.20__2/cropped\\cropped_25.jpg\n",
      "Patch aligned using phase correlation\n",
      "Processing image  D:/Datasets/MLDM Project/Data/0.20__2/cropped\\cropped_26.jpg\n",
      "Patch aligned using phase correlation\n",
      "Processing image  D:/Datasets/MLDM Project/Data/0.20__2/cropped\\cropped_27.jpg\n",
      "Patch aligned using phase correlation\n",
      "Processing image  D:/Datasets/MLDM Project/Data/0.20__2/cropped\\cropped_28.jpg\n",
      "Patch aligned using phase correlation\n",
      "Processing image  D:/Datasets/MLDM Project/Data/0.20__2/cropped\\cropped_29.jpg\n",
      "Patch aligned using phase correlation\n",
      "Processing image  D:/Datasets/MLDM Project/Data/0.20__2/cropped\\cropped_30.jpg\n",
      "Patch aligned using phase correlation\n",
      "Processing image  D:/Datasets/MLDM Project/Data/0.20__2/cropped\\cropped_31.jpg\n",
      "Patch aligned using phase correlation\n",
      "Processing image  D:/Datasets/MLDM Project/Data/0.20__2/cropped\\cropped_32.jpg\n",
      "Patch aligned using phase correlation\n",
      "Processing image  D:/Datasets/MLDM Project/Data/0.20__2/cropped\\cropped_33.jpg\n",
      "Patch aligned using phase correlation\n",
      "Processing image  D:/Datasets/MLDM Project/Data/0.20__2/cropped\\cropped_34.jpg\n",
      "Patch aligned using phase correlation\n",
      "Processing image  D:/Datasets/MLDM Project/Data/0.20__2/cropped\\cropped_35.jpg\n",
      "Patch aligned using phase correlation\n",
      "Processing image  D:/Datasets/MLDM Project/Data/0.20__2/cropped\\cropped_36.jpg\n",
      "Patch aligned using phase correlation\n",
      "Processing image  D:/Datasets/MLDM Project/Data/0.20__2/cropped\\cropped_37.jpg\n",
      "Patch aligned using phase correlation\n",
      "Processing image  D:/Datasets/MLDM Project/Data/0.20__2/cropped\\cropped_38.jpg\n",
      "Patch aligned using phase correlation\n",
      "Processing image  D:/Datasets/MLDM Project/Data/0.20__2/cropped\\cropped_39.jpg\n",
      "Patch aligned using phase correlation\n",
      "Processing image  D:/Datasets/MLDM Project/Data/0.20__2/cropped\\cropped_40.jpg\n",
      "Patch aligned using phase correlation\n",
      "Processing image  D:/Datasets/MLDM Project/Data/0.20__2/cropped\\cropped_41.jpg\n",
      "Patch aligned using phase correlation\n",
      "Processing image  D:/Datasets/MLDM Project/Data/0.20__2/cropped\\cropped_42.jpg\n",
      "Patch aligned using phase correlation\n",
      "Processing image  D:/Datasets/MLDM Project/Data/0.20__2/cropped\\cropped_43.jpg\n",
      "Patch aligned using phase correlation\n",
      "Processing image  D:/Datasets/MLDM Project/Data/0.20__2/cropped\\cropped_44.jpg\n",
      "Patch aligned using phase correlation\n",
      "Processing image  D:/Datasets/MLDM Project/Data/0.20__2/cropped\\cropped_45.jpg\n",
      "Patch aligned using phase correlation\n",
      "Processing image  D:/Datasets/MLDM Project/Data/0.20__2/cropped\\cropped_46.jpg\n",
      "Patch aligned using phase correlation\n",
      "Processing image  D:/Datasets/MLDM Project/Data/0.20__2/cropped\\cropped_47.jpg\n",
      "Patch aligned using phase correlation\n",
      "Processing image  D:/Datasets/MLDM Project/Data/0.20__2/cropped\\cropped_48.jpg\n",
      "Patch aligned using phase correlation\n",
      "Processing image  D:/Datasets/MLDM Project/Data/0.20__2/cropped\\cropped_49.jpg\n",
      "Patch aligned using phase correlation\n",
      "Processing image  D:/Datasets/MLDM Project/Data/0.20__2/cropped\\cropped_50.jpg\n",
      "Patch aligned using phase correlation\n",
      "All patches aligned, cropped, inpainted and saved.\n"
     ]
    }
   ],
   "source": [
    "file_list = sorted(glob(\"D:/Datasets/MLDM Project/Data/0.20__2/cropped/*.jpg\"))\n",
    "#file_list = file_list[::-1]\n",
    "base_image_path = file_list[0]\n",
    "aligned_images = []\n",
    "\n",
    "res = 900\n",
    "\n",
    "def get_bounding_box(image):\n",
    "    # Get the coordinates of non-black pixels\n",
    "    coords = np.argwhere(image)\n",
    "    # If there are no non-black pixels, return None\n",
    "    if coords.size == 0:\n",
    "        return None\n",
    "    # Get the bounding box\n",
    "    x_min, y_min = coords.min(axis=0)\n",
    "    x_max, y_max = coords.max(axis=0)\n",
    "    return x_min, y_min, x_max, y_max\n",
    "\n",
    "def pad_image_to_size(image, target_size):\n",
    "    # Pad the image to the target size\n",
    "    pad_y = max(0, target_size - image.shape[0])\n",
    "    pad_x = max(0, target_size - image.shape[1])\n",
    "    padded_image = cv2.copyMakeBorder(image, 0, pad_y, 0, pad_x, cv2.BORDER_CONSTANT, value=0)\n",
    "    return padded_image\n",
    "\n",
    "def inpaint_black_regions(image):\n",
    "    # Create a mask of the black regions\n",
    "    mask = cv2.inRange(image, 0, 0)\n",
    "    # Inpaint the black regions in the image\n",
    "    inpainted_image = cv2.inpaint(image, mask, 3, cv2.INPAINT_TELEA)\n",
    "    return inpainted_image\n",
    "\n",
    "for i in range(0, len(file_list)):\n",
    "    img_path = file_list[i]\n",
    "    print(\"Processing image \", img_path)\n",
    "\n",
    "    # Extract a 500x500 patch from the base image and the current image\n",
    "    base_patch = cv2.imread(base_image_path, 0)[0:res, 0:res]\n",
    "    img_patch = cv2.imread(img_path, 0)[0:res, 0:res]\n",
    "    \n",
    "    # Convert the patches to grayscale if they are color images\n",
    "    if base_patch.ndim == 3:\n",
    "        print(\"Converting base patch to grayscale\")\n",
    "        base_patch = cv2.cvtColor(base_patch, cv2.COLOR_BGR2GRAY)\n",
    "    if img_patch.ndim == 3:\n",
    "        print(\"Converting patch to grayscale\")\n",
    "        img_patch = cv2.cvtColor(img_patch, cv2.COLOR_BGR2GRAY)\n",
    "\n",
    "\n",
    "    aligned_patch = phase_correlation_alignment(base_patch, img_patch)\n",
    "    print(\"Patch aligned using phase correlation\")\n",
    "\n",
    "    # Skip if the aligned patch is entirely black\n",
    "    if np.all(aligned_patch == 0):\n",
    "        print(\"Skipping image due to failed alignment\")\n",
    "        continue\n",
    "\n",
    "    # Get the bounding box of the non-black regions\n",
    "    bbox = get_bounding_box(aligned_patch)\n",
    "    if bbox is None:\n",
    "        print(\"Skipping image due to no non-black pixels\")\n",
    "        continue\n",
    "\n",
    "    x_min, y_min, x_max, y_max = bbox\n",
    "\n",
    "    # Crop the aligned image\n",
    "    cropped_patch = aligned_patch[x_min:x_max+1, y_min:y_max+1]\n",
    "\n",
    "    # Pad the cropped patch to 500x500 if necessary\n",
    "    cropped_patch = pad_image_to_size(cropped_patch, res)\n",
    "\n",
    "    # Inpaint the black regions in the cropped patch\n",
    "    inpainted_patch = inpaint_black_regions(cropped_patch)\n",
    "\n",
    "    # Save inpainted patch\n",
    "    cv2.imwrite(r\"C:\\Users\\ariel\\PycharmProjects\\MLDM_Project\\generations\\patch_match_20_2/aligned_\"+str(i).zfill(2)+\".png\", inpainted_patch[:500, :500])\n",
    "\n",
    "print(\"All patches aligned, cropped, inpainted and saved.\")"
   ],
   "metadata": {
    "collapsed": false,
    "ExecuteTime": {
     "end_time": "2023-12-04T12:21:37.663944800Z",
     "start_time": "2023-12-04T12:21:26.065705800Z"
    }
   },
   "id": "fafb983a2598053d"
  }
 ],
 "metadata": {
  "kernelspec": {
   "display_name": "Python 3",
   "language": "python",
   "name": "python3"
  },
  "language_info": {
   "codemirror_mode": {
    "name": "ipython",
    "version": 2
   },
   "file_extension": ".py",
   "mimetype": "text/x-python",
   "name": "python",
   "nbconvert_exporter": "python",
   "pygments_lexer": "ipython2",
   "version": "2.7.6"
  }
 },
 "nbformat": 4,
 "nbformat_minor": 5
}

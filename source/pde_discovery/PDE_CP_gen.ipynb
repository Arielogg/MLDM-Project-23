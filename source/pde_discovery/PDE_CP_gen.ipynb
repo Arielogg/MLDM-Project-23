{
 "cells": [
  {
   "cell_type": "markdown",
   "source": [
    "Need to comment this file, we're working with notebooks"
   ],
   "metadata": {
    "collapsed": false
   },
   "id": "e61714bfbcd95347"
  },
  {
   "cell_type": "markdown",
   "source": [
    "## Imports"
   ],
   "metadata": {
    "collapsed": false
   },
   "id": "37a6ab72859e026d"
  },
  {
   "cell_type": "code",
   "execution_count": 171,
   "outputs": [],
   "source": [
    "import pysindy as ps\n",
    "from pysindy import PDELibrary, WeakPDELibrary\n",
    "from pysindy.optimizers import STLSQ\n",
    "from pysindy.differentiation import SpectralDerivative\n",
    "import matplotlib.pyplot as plt\n",
    "from PIL import Image\n",
    "import os\n",
    "import numpy as np"
   ],
   "metadata": {
    "collapsed": false,
    "ExecuteTime": {
     "end_time": "2023-12-04T19:43:03.384419900Z",
     "start_time": "2023-12-04T19:43:03.353864100Z"
    }
   },
   "id": "291131fe13c7cba1"
  },
  {
   "cell_type": "markdown",
   "source": [
    "## Data selection"
   ],
   "metadata": {
    "collapsed": false
   },
   "id": "4c865488744cd899"
  },
  {
   "cell_type": "code",
   "execution_count": 172,
   "outputs": [],
   "source": [
    "\"\"\" Features directory of the changemaps \"\"\"\n",
    "#features_dir = r\"../../generations/changemap_generations/cropped_cropped/result_20_cut_1_png\"\n",
    "#features_dir = r\"../../generations/changemap_generations/cropped_resized/result_20_cut_1_png\"\n",
    "\n",
    "\"\"\" Features directory of the generated registered by deformation (these images are .jpg)\"\"\"\n",
    "#features_dir = r\"C:\\Users\\ariel\\PycharmProjects\\MLDM_Project\\generations\\deformation_generations\\registered\\24\"\n",
    "#features_dir = r\"../../generations/deformation_generations/deformations/24\"\n",
    "\n",
    "\"\"\" Features directory of the phase correlation-matched images \"\"\"\n",
    "features_dir = r\"C:\\Users\\ariel\\PycharmProjects\\MLDM_Project\\generations\\deformation_generations\\registered\\24\"\n",
    "\n",
    "\"\"\" Resolution (if necessary) to resize \"\"\"\n",
    "res = 224"
   ],
   "metadata": {
    "collapsed": false,
    "ExecuteTime": {
     "end_time": "2023-12-04T19:43:03.424927300Z",
     "start_time": "2023-12-04T19:43:03.362903600Z"
    }
   },
   "id": "ab299c9109ae436e"
  },
  {
   "cell_type": "code",
   "execution_count": 173,
   "outputs": [
    {
     "name": "stdout",
     "output_type": "stream",
     "text": [
      "['registered_01.jpg', 'registered_02.jpg', 'registered_03.jpg', 'registered_04.jpg', 'registered_05.jpg', 'registered_06.jpg', 'registered_07.jpg', 'registered_08.jpg', 'registered_09.jpg', 'registered_10.jpg', 'registered_11.jpg', 'registered_12.jpg', 'registered_13.jpg', 'registered_14.jpg', 'registered_15.jpg', 'registered_16.jpg', 'registered_17.jpg', 'registered_18.jpg', 'registered_19.jpg', 'registered_20.jpg', 'registered_21.jpg', 'registered_22.jpg', 'registered_23.jpg', 'registered_24.jpg', 'registered_25.jpg', 'registered_26.jpg', 'registered_27.jpg', 'registered_28.jpg', 'registered_29.jpg', 'registered_30.jpg', 'registered_31.jpg', 'registered_32.jpg', 'registered_33.jpg', 'registered_34.jpg', 'registered_35.jpg', 'registered_36.jpg', 'registered_37.jpg', 'registered_38.jpg', 'registered_39.jpg', 'registered_40.jpg', 'registered_41.jpg', 'registered_42.jpg', 'registered_43.jpg', 'registered_44.jpg', 'registered_45.jpg', 'registered_46.jpg', 'registered_47.jpg', 'registered_48.jpg', 'registered_49.jpg', 'registered_50.jpg']\n"
     ]
    }
   ],
   "source": [
    "frames = []\n",
    "\n",
    "filenames = sorted(os.listdir(features_dir))\n",
    "print(filenames) # Checking they've been imported in the correct order\n",
    "for filename in filenames:\n",
    "    if filename.endswith(\".jpg\"):\n",
    "        img = Image.open(os.path.join(features_dir, filename))\n",
    "        width, height = img.size\n",
    "        #img = img.resize((res, res))\n",
    "        img = img.convert('L')\n",
    "        img = np.asarray(img)\n",
    "        img = img / 255\n",
    "        frames.append(img)\n",
    "        \n",
    "res = np.shape(frames[0])[0]"
   ],
   "metadata": {
    "collapsed": false,
    "ExecuteTime": {
     "end_time": "2023-12-04T19:43:03.426934400Z",
     "start_time": "2023-12-04T19:43:03.379906400Z"
    }
   },
   "id": "80c8ac5d2a3c2a7f"
  },
  {
   "cell_type": "markdown",
   "source": [
    "## Reshaping data, creating spatial grid"
   ],
   "metadata": {
    "collapsed": false
   },
   "id": "9e9b8ecc6a29c9d3"
  },
  {
   "cell_type": "code",
   "execution_count": 174,
   "outputs": [
    {
     "name": "stdout",
     "output_type": "stream",
     "text": [
      "Spatial grid shape: (224, 224, 2)\n",
      "Features shape: (50, 224, 224, 1)\n"
     ]
    }
   ],
   "source": [
    "#Creating spatial grid\n",
    "features = np.stack(frames, axis=0)\n",
    "features = np.reshape(features, (len(features), res, res, 1))\n",
    "spatial_grid_x, spatial_grid_y = np.meshgrid(np.arange(res), np.arange(res))\n",
    "spatial_grid = np.stack((spatial_grid_x, spatial_grid_y), axis=-1)\n",
    "print(\"Spatial grid shape:\", np.shape(spatial_grid))\n",
    "print(\"Features shape:\", np.shape(features))"
   ],
   "metadata": {
    "collapsed": false,
    "ExecuteTime": {
     "end_time": "2023-12-04T19:43:03.442084200Z",
     "start_time": "2023-12-04T19:43:03.425933400Z"
    }
   },
   "id": "b0a8046d41648be"
  },
  {
   "cell_type": "markdown",
   "source": [
    "## Feature library"
   ],
   "metadata": {
    "collapsed": false
   },
   "id": "c854ba086e701e83"
  },
  {
   "cell_type": "code",
   "execution_count": 175,
   "outputs": [],
   "source": [
    "#Define feature library\n",
    "feature_lib = ps.PDELibrary(\n",
    "    library_functions=[lambda x: x, lambda x: x ** 2, lambda x: x ** 3],\n",
    "    derivative_order=4,\n",
    "    spatial_grid=spatial_grid,\n",
    "    include_interaction=False,\n",
    "    function_names=[lambda x: x,lambda x: x + x,lambda x: x + x + x],\n",
    "    multiindices=[[0,2], [2,0], [4,0], [0,4]],\n",
    "    differentiation_method=SpectralDerivative,\n",
    ")\n",
    "\n",
    "parameter_lib = ps.PDELibrary(\n",
    "    library_functions=[lambda x: x],\n",
    "    include_interaction=False,\n",
    "    function_names=[lambda x: x],\n",
    "    include_bias=True,\n",
    ")\n",
    "\n",
    "lib = ps.ParameterizedLibrary(\n",
    "    parameter_library=parameter_lib,\n",
    "    feature_library=feature_lib,\n",
    "    num_parameters=2,\n",
    "    num_features=1,\n",
    ")"
   ],
   "metadata": {
    "collapsed": false,
    "ExecuteTime": {
     "end_time": "2023-12-04T19:43:03.480080800Z",
     "start_time": "2023-12-04T19:43:03.441082300Z"
    }
   },
   "id": "a29b40c9ad056f10"
  },
  {
   "cell_type": "markdown",
   "source": [
    "## Defining optimizer and model"
   ],
   "metadata": {
    "collapsed": false
   },
   "id": "903ca2670400110f"
  },
  {
   "cell_type": "code",
   "execution_count": 176,
   "outputs": [],
   "source": [
    "opt = ps.STLSQ(threshold=0.01, alpha=0.01, normalize_columns=False, verbose=True)\n",
    "model = ps.SINDy(feature_library=lib, optimizer=opt, feature_names=[\"u\", \"F\", \"t\"])"
   ],
   "metadata": {
    "collapsed": false,
    "ExecuteTime": {
     "end_time": "2023-12-04T19:43:03.493082100Z",
     "start_time": "2023-12-04T19:43:03.465083500Z"
    }
   },
   "id": "2c4b6549405a28e0"
  },
  {
   "cell_type": "markdown",
   "source": [
    "## Defining x_dot"
   ],
   "metadata": {
    "collapsed": false
   },
   "id": "2983d13d54a0da4d"
  },
  {
   "cell_type": "code",
   "execution_count": 177,
   "outputs": [
    {
     "name": "stdout",
     "output_type": "stream",
     "text": [
      "[50  1  1  1]\n",
      "Shape of x_dot (50, 224, 224, 1)\n"
     ]
    }
   ],
   "source": [
    "x = np.asarray(features)\n",
    "x_dot = model.differentiate(x=x)\n",
    "u = [0.22, 0.0003]\n",
    "print(\"Shape of x_dot\", np.shape(x_dot))"
   ],
   "metadata": {
    "collapsed": false,
    "ExecuteTime": {
     "end_time": "2023-12-04T19:43:03.549495100Z",
     "start_time": "2023-12-04T19:43:03.470082600Z"
    }
   },
   "id": "7116a7b475d63bd4"
  },
  {
   "cell_type": "markdown",
   "source": [
    "## Fitting model"
   ],
   "metadata": {
    "collapsed": false
   },
   "id": "b51d2271c2a65b9a"
  },
  {
   "cell_type": "code",
   "execution_count": 178,
   "outputs": [
    {
     "name": "stdout",
     "output_type": "stream",
     "text": [
      "[  1   1 224   1]\n",
      "[  1 224   1   1]\n",
      "[  1 224   1   1]\n",
      "[  1   1 224   1]\n",
      "[  1   1 224   1]\n",
      "[  1 224   1   1]\n",
      "[  1 224   1   1]\n",
      "[  1   1 224   1]\n",
      "SLTSQ\n",
      "n_features_selected =  21\n",
      "n_features =  21\n",
      "n_targets =  1\n",
      "n_samples =  2508800\n",
      "x.shape =  (2508800, 21)\n",
      "y.shape =  (2508800, 1)\n",
      "\n",
      " Iteration ... |y - Xw|^2 ...  a * |w|_2 ...      |w|_0 ... Total error: |y - Xw|^2 + a * |w|_2\n",
      "         0 ... 3.9034e+00 ... 1.9928e-01 ...          7 ... 4.1027e+00\n",
      "         1 ... 3.9034e+00 ... 2.0386e-01 ...          6 ... 4.1073e+00\n",
      "         2 ... 3.9034e+00 ... 2.0659e-01 ...          6 ... 4.1100e+00\n",
      "(u)' = -609535373079.132 1 u + 1028457063749.289 1 uu + 819361868255.797 1 uuu + 2770615332174.426 F u + -4674804835209.016 F uu + -3724372128448.236 F uuu\n"
     ]
    }
   ],
   "source": [
    "model.fit(x, x_dot=x_dot, u=u, multiple_trajectories=False)  # Check spectral_derivative.py for the adjustment of differentiation axis and timestep, also not automatic\n",
    "model.print()\n",
    "print()"
   ],
   "metadata": {
    "collapsed": false,
    "ExecuteTime": {
     "end_time": "2023-12-04T19:43:07.631424500Z",
     "start_time": "2023-12-04T19:43:03.548496Z"
    }
   },
   "id": "79c7bda7d7c6eaf7"
  },
  {
   "cell_type": "code",
   "execution_count": 179,
   "outputs": [
    {
     "name": "stdout",
     "output_type": "stream",
     "text": [
      "[[ 0.139 -0.234 -0.187 -0.    -0.    -0.    -0.    -0.631  1.065  0.848\n",
      "  -0.    -0.    -0.    -0.    -0.    -0.    -0.    -0.    -0.    -0.\n",
      "  -0.   ]]\n"
     ]
    }
   ],
   "source": [
    "np.set_printoptions(precision=3, suppress=True)\n",
    "weights = model.coefficients()\n",
    "normalized_weights = weights / np.sum(weights)\n",
    "print(normalized_weights)"
   ],
   "metadata": {
    "collapsed": false,
    "ExecuteTime": {
     "end_time": "2023-12-04T19:43:07.632421700Z",
     "start_time": "2023-12-04T19:43:07.618912700Z"
    }
   },
   "id": "bee808af265a107b"
  },
  {
   "cell_type": "code",
   "execution_count": 179,
   "outputs": [],
   "source": [],
   "metadata": {
    "collapsed": false,
    "ExecuteTime": {
     "end_time": "2023-12-04T19:43:07.677463300Z",
     "start_time": "2023-12-04T19:43:07.634422800Z"
    }
   },
   "id": "a90cfdf499541101"
  }
 ],
 "metadata": {
  "kernelspec": {
   "display_name": "Python 3",
   "language": "python",
   "name": "python3"
  },
  "language_info": {
   "codemirror_mode": {
    "name": "ipython",
    "version": 2
   },
   "file_extension": ".py",
   "mimetype": "text/x-python",
   "name": "python",
   "nbconvert_exporter": "python",
   "pygments_lexer": "ipython2",
   "version": "2.7.6"
  }
 },
 "nbformat": 4,
 "nbformat_minor": 5
}

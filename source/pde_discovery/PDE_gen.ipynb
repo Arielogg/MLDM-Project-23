{
 "cells": [
  {
   "cell_type": "markdown",
   "source": [
    "Need to comment this file since we're gonna be working on notebooks"
   ],
   "metadata": {
    "collapsed": false
   },
   "id": "a1686beb4429256b"
  },
  {
   "cell_type": "markdown",
   "source": [
    "## Imports"
   ],
   "metadata": {
    "collapsed": false
   },
   "id": "d79cdf195b89a97b"
  },
  {
   "cell_type": "code",
   "execution_count": 1,
   "outputs": [],
   "source": [
    "import pysindy as ps\n",
    "from pysindy import PDELibrary\n",
    "from pysindy.optimizers import STLSQ\n",
    "from pysindy.differentiation import SpectralDerivative\n",
    "import matplotlib.pyplot as plt\n",
    "from PIL import Image\n",
    "import os\n",
    "import numpy as np"
   ],
   "metadata": {
    "collapsed": false,
    "ExecuteTime": {
     "end_time": "2023-12-04T19:29:12.918011700Z",
     "start_time": "2023-12-04T19:29:11.444486300Z"
    }
   },
   "id": "7e84943e8384e2ce"
  },
  {
   "cell_type": "markdown",
   "source": [
    "## Data Selection"
   ],
   "metadata": {
    "collapsed": false
   },
   "id": "c294c1a3d7f27ca"
  },
  {
   "cell_type": "code",
   "execution_count": 2,
   "outputs": [],
   "source": [
    "\"\"\" Features directory of the changemaps \"\"\"\n",
    "#features_dir = r\"../../generations/changemap_generations/cropped_cropped/result_20_cut_1_png\"\n",
    "#features_dir = r\"../../generations/changemap_generations/cropped_resized/result_20_cut_1_png\"\n",
    "\n",
    "\"\"\" Features directory of the generated registered by deformation (these images are .jpg)\"\"\"\n",
    "#features_dir = r\"C:\\Users\\ariel\\PycharmProjects\\MLDM_Project\\generations\\deformation_generations\\registered\\24\"\n",
    "#features_dir = r\"../../generations/deformation_generations/deformations/24\"\n",
    "\n",
    "\"\"\" Features directory of the phase correlation-matched images \"\"\"\n",
    "features_dir = r\"C:\\Users\\ariel\\PycharmProjects\\MLDM_Project\\generations\\phase_correlated_generations\\patch_match_20_2\"\n",
    "\n",
    "\"\"\" Resolution (if necessary) to resize \"\"\"\n",
    "res = 500"
   ],
   "metadata": {
    "collapsed": false,
    "ExecuteTime": {
     "end_time": "2023-12-04T19:29:12.937010700Z",
     "start_time": "2023-12-04T19:29:12.919010700Z"
    }
   },
   "id": "ab383073ee415fb3"
  },
  {
   "cell_type": "code",
   "execution_count": 3,
   "outputs": [
    {
     "name": "stdout",
     "output_type": "stream",
     "text": [
      "['aligned_00.png', 'aligned_01.png', 'aligned_02.png', 'aligned_03.png', 'aligned_04.png', 'aligned_05.png', 'aligned_06.png', 'aligned_07.png', 'aligned_08.png', 'aligned_09.png', 'aligned_10.png', 'aligned_11.png', 'aligned_12.png', 'aligned_13.png', 'aligned_14.png', 'aligned_15.png', 'aligned_16.png', 'aligned_17.png', 'aligned_18.png', 'aligned_19.png', 'aligned_20.png', 'aligned_21.png', 'aligned_22.png', 'aligned_23.png', 'aligned_24.png', 'aligned_25.png', 'aligned_26.png', 'aligned_27.png', 'aligned_28.png', 'aligned_29.png', 'aligned_30.png', 'aligned_31.png', 'aligned_32.png', 'aligned_33.png', 'aligned_34.png', 'aligned_35.png', 'aligned_36.png', 'aligned_37.png', 'aligned_38.png', 'aligned_39.png', 'aligned_40.png', 'aligned_41.png', 'aligned_42.png', 'aligned_43.png', 'aligned_44.png', 'aligned_45.png', 'aligned_46.png', 'aligned_47.png', 'aligned_48.png', 'aligned_49.png']\n"
     ]
    }
   ],
   "source": [
    "frames = []\n",
    "\n",
    "filenames = sorted(os.listdir(features_dir))\n",
    "print(filenames) # Checking they've been imported in the correct order\n",
    "for filename in filenames:\n",
    "    if filename.endswith(\".png\"):\n",
    "        img = Image.open(os.path.join(features_dir, filename))\n",
    "        width, height = img.size\n",
    "        #img = img.resize((res, res))\n",
    "        img = img.convert('L')\n",
    "        img = np.asarray(img)\n",
    "        img = img / 255\n",
    "        frames.append(img)\n",
    "        \n",
    "res = np.shape(frames[0])[0]"
   ],
   "metadata": {
    "collapsed": false,
    "ExecuteTime": {
     "end_time": "2023-12-04T19:29:13.086995500Z",
     "start_time": "2023-12-04T19:29:12.934011400Z"
    }
   },
   "id": "44ca52521572a29b"
  },
  {
   "cell_type": "markdown",
   "source": [
    "## Reshaping data, creating spatial grid"
   ],
   "metadata": {
    "collapsed": false
   },
   "id": "36651fda3e18bac8"
  },
  {
   "cell_type": "code",
   "execution_count": 4,
   "outputs": [
    {
     "name": "stdout",
     "output_type": "stream",
     "text": [
      "Spatial grid shape: (500, 500, 2)\n",
      "Features shape: (50, 500, 500, 1)\n"
     ]
    }
   ],
   "source": [
    "#Creating spatial grid\n",
    "features = np.stack(frames, axis=0)\n",
    "features = np.reshape(features, (len(features), res, res, 1))\n",
    "spatial_grid_x, spatial_grid_y = np.meshgrid(np.arange(res), np.arange(res))\n",
    "spatial_grid = np.stack((spatial_grid_x, spatial_grid_y), axis=-1)\n",
    "print(\"Spatial grid shape:\", np.shape(spatial_grid))\n",
    "print(\"Features shape:\", np.shape(features))"
   ],
   "metadata": {
    "collapsed": false,
    "ExecuteTime": {
     "end_time": "2023-12-04T19:29:13.118515300Z",
     "start_time": "2023-12-04T19:29:13.090005900Z"
    }
   },
   "id": "6432e767446f0950"
  },
  {
   "cell_type": "markdown",
   "source": [
    "# Defining the feature library"
   ],
   "metadata": {
    "collapsed": false
   },
   "id": "3ea82c7579323c92"
  },
  {
   "cell_type": "code",
   "execution_count": 5,
   "outputs": [],
   "source": [
    "lib = ps.PDELibrary(\n",
    "    library_functions=[\n",
    "        lambda x:  x,\n",
    "        lambda x:  x ** 2,\n",
    "        lambda x:  x ** 3,\n",
    "    ],\n",
    "    function_names = [\n",
    "        lambda x: x,\n",
    "        lambda x: x + x,\n",
    "        lambda x: x + x + x,\n",
    "    ],\n",
    "    derivative_order=4,\n",
    "    spatial_grid=spatial_grid,\n",
    "    include_interaction=False,\n",
    "    multiindices=[[0,2], [2,0], [4,0], [0,4]],\n",
    "    differentiation_method=ps.SpectralDerivative,\n",
    ")"
   ],
   "metadata": {
    "collapsed": false,
    "ExecuteTime": {
     "end_time": "2023-12-04T19:29:13.150514800Z",
     "start_time": "2023-12-04T19:29:13.120514700Z"
    }
   },
   "id": "db029ecf947e4ce2"
  },
  {
   "cell_type": "markdown",
   "source": [
    "## Defining the optimizer and model"
   ],
   "metadata": {
    "collapsed": false
   },
   "id": "c5af0c6d2f111115"
  },
  {
   "cell_type": "code",
   "execution_count": 6,
   "outputs": [],
   "source": [
    "opt = STLSQ(threshold=0.001, alpha=0.1, verbose=True, normalize_columns=False)\n",
    "model = ps.SINDy(feature_library=lib, optimizer=opt, feature_names=[\"u\"])"
   ],
   "metadata": {
    "collapsed": false,
    "ExecuteTime": {
     "end_time": "2023-12-04T19:29:13.159515600Z",
     "start_time": "2023-12-04T19:29:13.134518900Z"
    }
   },
   "id": "c904a78bbb49c1e0"
  },
  {
   "cell_type": "markdown",
   "source": [
    "## Defininng x_dot"
   ],
   "metadata": {
    "collapsed": false
   },
   "id": "9ce83c32d6660792"
  },
  {
   "cell_type": "code",
   "execution_count": 7,
   "outputs": [
    {
     "name": "stdout",
     "output_type": "stream",
     "text": [
      "[50  1  1  1]\n",
      "Shape of x_dot: (50, 500, 500, 1)\n"
     ]
    }
   ],
   "source": [
    "x = np.asarray(features)\n",
    "dt = np.arange(0, x.shape[0]*0.05, 0.05) #Not necessary as time has been forced on source\n",
    "\n",
    "x_dot = model.differentiate(x=x) \n",
    "\n",
    "'''plt.imshow(x_dot[25,:,:,0], cmap='gray')\n",
    "plt.colorbar(label='Intensity')\n",
    "plt.show()'''\n",
    "\n",
    "print(\"Shape of x_dot:\", np.shape(x_dot))"
   ],
   "metadata": {
    "collapsed": false,
    "ExecuteTime": {
     "end_time": "2023-12-04T19:29:13.435062400Z",
     "start_time": "2023-12-04T19:29:13.149517200Z"
    }
   },
   "id": "7467fc4435f7101"
  },
  {
   "cell_type": "markdown",
   "source": [
    "## Fitting the model"
   ],
   "metadata": {
    "collapsed": false
   },
   "id": "fc4b5d354501daf"
  },
  {
   "cell_type": "code",
   "execution_count": 8,
   "outputs": [
    {
     "name": "stdout",
     "output_type": "stream",
     "text": [
      "Fitting model...\n",
      "[  1   1 500   1]\n",
      "[  1 500   1   1]\n",
      "[  1 500   1   1]\n",
      "[  1   1 500   1]\n",
      "SLTSQ\n",
      "n_features_selected =  7\n",
      "n_features =  7\n",
      "n_targets =  1\n",
      "n_samples =  12500000\n",
      "x.shape =  (12500000, 7)\n",
      "y.shape =  (12500000, 1)\n",
      "\n",
      " Iteration ... |y - Xw|^2 ...  a * |w|_2 ...      |w|_0 ... Total error: |y - Xw|^2 + a * |w|_2\n",
      "         0 ... 1.4108e+01 ... 2.0172e+01 ...          5 ... 3.4280e+01\n",
      "         1 ... 1.4108e+01 ... 2.0104e+01 ...          4 ... 3.4212e+01\n",
      "         2 ... 1.4108e+01 ... 2.0107e+01 ...          4 ... 3.4216e+01\n",
      "(u)' = -3.389 u + 10.900 uu + -8.416 uuu + -0.001 u_22\n"
     ]
    }
   ],
   "source": [
    "print(\"Fitting model...\")\n",
    "model.fit(x=x, x_dot=x_dot)\n",
    "model.print()"
   ],
   "metadata": {
    "collapsed": false,
    "ExecuteTime": {
     "end_time": "2023-12-04T19:29:20.075074700Z",
     "start_time": "2023-12-04T19:29:13.427063900Z"
    }
   },
   "id": "1392050c68f8e051"
  },
  {
   "cell_type": "markdown",
   "source": [],
   "metadata": {
    "collapsed": false
   },
   "id": "2f4b3f166c8ddfcd"
  }
 ],
 "metadata": {
  "kernelspec": {
   "display_name": "Python 3",
   "language": "python",
   "name": "python3"
  },
  "language_info": {
   "codemirror_mode": {
    "name": "ipython",
    "version": 2
   },
   "file_extension": ".py",
   "mimetype": "text/x-python",
   "name": "python",
   "nbconvert_exporter": "python",
   "pygments_lexer": "ipython2",
   "version": "2.7.6"
  }
 },
 "nbformat": 4,
 "nbformat_minor": 5
}
